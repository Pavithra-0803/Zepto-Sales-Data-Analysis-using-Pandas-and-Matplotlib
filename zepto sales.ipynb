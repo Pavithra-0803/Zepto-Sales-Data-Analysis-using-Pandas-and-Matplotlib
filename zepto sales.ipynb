{
 "cells": [
  {
   "cell_type": "markdown",
   "id": "8cf9916b-9ca6-475f-99f0-fe766222f907",
   "metadata": {},
   "source": [
    "# Importing required libraries"
   ]
  },
  {
   "cell_type": "code",
   "execution_count": 150,
   "id": "becfecee-f971-4fa7-9be9-c9a5e54e201e",
   "metadata": {},
   "outputs": [],
   "source": [
    "import pandas as pd\n",
    "import matplotlib.pyplot as plt\n",
    "import seaborn as sns"
   ]
  },
  {
   "cell_type": "markdown",
   "id": "fa0cd625-021d-4161-9289-50f95461078a",
   "metadata": {},
   "source": [
    "# Importing the data"
   ]
  },
  {
   "cell_type": "code",
   "execution_count": 151,
   "id": "f8eff9f2-1674-43b6-9449-bef6d344970a",
   "metadata": {},
   "outputs": [],
   "source": [
    "data = pd.read_csv(\"C:/Users/ASUS/Downloads/zepto_sales_dataset.csv\")\n"
   ]
  },
  {
   "cell_type": "code",
   "execution_count": 152,
   "id": "6ff545c6-cdbf-4368-a0a6-397eb28e66c9",
   "metadata": {},
   "outputs": [
    {
     "data": {
      "text/html": [
       "<div>\n",
       "<style scoped>\n",
       "    .dataframe tbody tr th:only-of-type {\n",
       "        vertical-align: middle;\n",
       "    }\n",
       "\n",
       "    .dataframe tbody tr th {\n",
       "        vertical-align: top;\n",
       "    }\n",
       "\n",
       "    .dataframe thead th {\n",
       "        text-align: right;\n",
       "    }\n",
       "</style>\n",
       "<table border=\"1\" class=\"dataframe\">\n",
       "  <thead>\n",
       "    <tr style=\"text-align: right;\">\n",
       "      <th></th>\n",
       "      <th>Product Name</th>\n",
       "      <th>Category</th>\n",
       "      <th>City</th>\n",
       "      <th>Original Price</th>\n",
       "      <th>Current Price</th>\n",
       "      <th>Discount</th>\n",
       "      <th>Orders</th>\n",
       "      <th>Total Revenue</th>\n",
       "      <th>Influencer Active</th>\n",
       "    </tr>\n",
       "  </thead>\n",
       "  <tbody>\n",
       "    <tr>\n",
       "      <th>0</th>\n",
       "      <td>Britannia Cake</td>\n",
       "      <td>Snacks</td>\n",
       "      <td>Delhi</td>\n",
       "      <td>148</td>\n",
       "      <td>163</td>\n",
       "      <td>5</td>\n",
       "      <td>283</td>\n",
       "      <td>44714</td>\n",
       "      <td>No</td>\n",
       "    </tr>\n",
       "    <tr>\n",
       "      <th>1</th>\n",
       "      <td>Britannia Cake</td>\n",
       "      <td>Snacks</td>\n",
       "      <td>Pune</td>\n",
       "      <td>81</td>\n",
       "      <td>86</td>\n",
       "      <td>10</td>\n",
       "      <td>284</td>\n",
       "      <td>21584</td>\n",
       "      <td>Yes</td>\n",
       "    </tr>\n",
       "    <tr>\n",
       "      <th>2</th>\n",
       "      <td>Fortune Oil 1L</td>\n",
       "      <td>Grocery</td>\n",
       "      <td>Hyderabad</td>\n",
       "      <td>138</td>\n",
       "      <td>143</td>\n",
       "      <td>10</td>\n",
       "      <td>69</td>\n",
       "      <td>9177</td>\n",
       "      <td>No</td>\n",
       "    </tr>\n",
       "    <tr>\n",
       "      <th>3</th>\n",
       "      <td>Pepsi 500ml</td>\n",
       "      <td>Beverages</td>\n",
       "      <td>Delhi</td>\n",
       "      <td>127</td>\n",
       "      <td>127</td>\n",
       "      <td>10</td>\n",
       "      <td>83</td>\n",
       "      <td>9711</td>\n",
       "      <td>No</td>\n",
       "    </tr>\n",
       "    <tr>\n",
       "      <th>4</th>\n",
       "      <td>Aashirvaad Atta</td>\n",
       "      <td>Grocery</td>\n",
       "      <td>Chennai</td>\n",
       "      <td>34</td>\n",
       "      <td>49</td>\n",
       "      <td>10</td>\n",
       "      <td>169</td>\n",
       "      <td>6591</td>\n",
       "      <td>Yes</td>\n",
       "    </tr>\n",
       "  </tbody>\n",
       "</table>\n",
       "</div>"
      ],
      "text/plain": [
       "      Product Name   Category       City  Original Price  Current Price  \\\n",
       "0   Britannia Cake     Snacks      Delhi             148            163   \n",
       "1   Britannia Cake     Snacks       Pune              81             86   \n",
       "2   Fortune Oil 1L    Grocery  Hyderabad             138            143   \n",
       "3      Pepsi 500ml  Beverages      Delhi             127            127   \n",
       "4  Aashirvaad Atta    Grocery    Chennai              34             49   \n",
       "\n",
       "   Discount  Orders  Total Revenue Influencer Active  \n",
       "0         5     283          44714                No  \n",
       "1        10     284          21584               Yes  \n",
       "2        10      69           9177                No  \n",
       "3        10      83           9711                No  \n",
       "4        10     169           6591               Yes  "
      ]
     },
     "execution_count": 152,
     "metadata": {},
     "output_type": "execute_result"
    }
   ],
   "source": [
    "data.head()"
   ]
  },
  {
   "cell_type": "code",
   "execution_count": 153,
   "id": "fd0f0896-216d-4925-a3c2-2a7b12c027eb",
   "metadata": {},
   "outputs": [
    {
     "name": "stdout",
     "output_type": "stream",
     "text": [
      "<class 'pandas.core.frame.DataFrame'>\n",
      "RangeIndex: 300 entries, 0 to 299\n",
      "Data columns (total 9 columns):\n",
      " #   Column             Non-Null Count  Dtype \n",
      "---  ------             --------------  ----- \n",
      " 0   Product Name       300 non-null    object\n",
      " 1   Category           300 non-null    object\n",
      " 2   City               300 non-null    object\n",
      " 3   Original Price     300 non-null    int64 \n",
      " 4   Current Price      300 non-null    int64 \n",
      " 5   Discount           300 non-null    int64 \n",
      " 6   Orders             300 non-null    int64 \n",
      " 7   Total Revenue      300 non-null    int64 \n",
      " 8   Influencer Active  300 non-null    object\n",
      "dtypes: int64(5), object(4)\n",
      "memory usage: 21.2+ KB\n"
     ]
    }
   ],
   "source": [
    "data.info()"
   ]
  },
  {
   "cell_type": "code",
   "execution_count": 154,
   "id": "592f976d-6199-4528-838f-32f160a13d03",
   "metadata": {},
   "outputs": [
    {
     "data": {
      "text/html": [
       "<div>\n",
       "<style scoped>\n",
       "    .dataframe tbody tr th:only-of-type {\n",
       "        vertical-align: middle;\n",
       "    }\n",
       "\n",
       "    .dataframe tbody tr th {\n",
       "        vertical-align: top;\n",
       "    }\n",
       "\n",
       "    .dataframe thead th {\n",
       "        text-align: right;\n",
       "    }\n",
       "</style>\n",
       "<table border=\"1\" class=\"dataframe\">\n",
       "  <thead>\n",
       "    <tr style=\"text-align: right;\">\n",
       "      <th></th>\n",
       "      <th>Product Name</th>\n",
       "      <th>Category</th>\n",
       "      <th>City</th>\n",
       "      <th>Original Price</th>\n",
       "      <th>Current Price</th>\n",
       "      <th>Discount</th>\n",
       "      <th>Orders</th>\n",
       "      <th>Total Revenue</th>\n",
       "      <th>Influencer Active</th>\n",
       "    </tr>\n",
       "  </thead>\n",
       "  <tbody>\n",
       "    <tr>\n",
       "      <th>0</th>\n",
       "      <td>Britannia Cake</td>\n",
       "      <td>Snacks</td>\n",
       "      <td>Delhi</td>\n",
       "      <td>148</td>\n",
       "      <td>163</td>\n",
       "      <td>5</td>\n",
       "      <td>283</td>\n",
       "      <td>44714</td>\n",
       "      <td>No</td>\n",
       "    </tr>\n",
       "    <tr>\n",
       "      <th>1</th>\n",
       "      <td>Britannia Cake</td>\n",
       "      <td>Snacks</td>\n",
       "      <td>Pune</td>\n",
       "      <td>81</td>\n",
       "      <td>86</td>\n",
       "      <td>10</td>\n",
       "      <td>284</td>\n",
       "      <td>21584</td>\n",
       "      <td>Yes</td>\n",
       "    </tr>\n",
       "    <tr>\n",
       "      <th>2</th>\n",
       "      <td>Fortune Oil 1L</td>\n",
       "      <td>Grocery</td>\n",
       "      <td>Hyderabad</td>\n",
       "      <td>138</td>\n",
       "      <td>143</td>\n",
       "      <td>10</td>\n",
       "      <td>69</td>\n",
       "      <td>9177</td>\n",
       "      <td>No</td>\n",
       "    </tr>\n",
       "    <tr>\n",
       "      <th>3</th>\n",
       "      <td>Pepsi 500ml</td>\n",
       "      <td>Beverages</td>\n",
       "      <td>Delhi</td>\n",
       "      <td>127</td>\n",
       "      <td>127</td>\n",
       "      <td>10</td>\n",
       "      <td>83</td>\n",
       "      <td>9711</td>\n",
       "      <td>No</td>\n",
       "    </tr>\n",
       "    <tr>\n",
       "      <th>4</th>\n",
       "      <td>Aashirvaad Atta</td>\n",
       "      <td>Grocery</td>\n",
       "      <td>Chennai</td>\n",
       "      <td>34</td>\n",
       "      <td>49</td>\n",
       "      <td>10</td>\n",
       "      <td>169</td>\n",
       "      <td>6591</td>\n",
       "      <td>Yes</td>\n",
       "    </tr>\n",
       "    <tr>\n",
       "      <th>...</th>\n",
       "      <td>...</td>\n",
       "      <td>...</td>\n",
       "      <td>...</td>\n",
       "      <td>...</td>\n",
       "      <td>...</td>\n",
       "      <td>...</td>\n",
       "      <td>...</td>\n",
       "      <td>...</td>\n",
       "      <td>...</td>\n",
       "    </tr>\n",
       "    <tr>\n",
       "      <th>295</th>\n",
       "      <td>Britannia Cake</td>\n",
       "      <td>Snacks</td>\n",
       "      <td>Pune</td>\n",
       "      <td>198</td>\n",
       "      <td>198</td>\n",
       "      <td>5</td>\n",
       "      <td>52</td>\n",
       "      <td>10036</td>\n",
       "      <td>Yes</td>\n",
       "    </tr>\n",
       "    <tr>\n",
       "      <th>296</th>\n",
       "      <td>Amul Milk 500ml</td>\n",
       "      <td>Dairy</td>\n",
       "      <td>Hyderabad</td>\n",
       "      <td>131</td>\n",
       "      <td>146</td>\n",
       "      <td>10</td>\n",
       "      <td>146</td>\n",
       "      <td>19856</td>\n",
       "      <td>No</td>\n",
       "    </tr>\n",
       "    <tr>\n",
       "      <th>297</th>\n",
       "      <td>Oreo Biscuits</td>\n",
       "      <td>Snacks</td>\n",
       "      <td>Delhi</td>\n",
       "      <td>171</td>\n",
       "      <td>176</td>\n",
       "      <td>10</td>\n",
       "      <td>291</td>\n",
       "      <td>48306</td>\n",
       "      <td>No</td>\n",
       "    </tr>\n",
       "    <tr>\n",
       "      <th>298</th>\n",
       "      <td>Amul Milk 500ml</td>\n",
       "      <td>Dairy</td>\n",
       "      <td>Mumbai</td>\n",
       "      <td>94</td>\n",
       "      <td>99</td>\n",
       "      <td>0</td>\n",
       "      <td>124</td>\n",
       "      <td>12276</td>\n",
       "      <td>No</td>\n",
       "    </tr>\n",
       "    <tr>\n",
       "      <th>299</th>\n",
       "      <td>Parle-G</td>\n",
       "      <td>Snacks</td>\n",
       "      <td>Chennai</td>\n",
       "      <td>129</td>\n",
       "      <td>129</td>\n",
       "      <td>10</td>\n",
       "      <td>272</td>\n",
       "      <td>32368</td>\n",
       "      <td>No</td>\n",
       "    </tr>\n",
       "  </tbody>\n",
       "</table>\n",
       "<p>300 rows × 9 columns</p>\n",
       "</div>"
      ],
      "text/plain": [
       "        Product Name   Category       City  Original Price  Current Price  \\\n",
       "0     Britannia Cake     Snacks      Delhi             148            163   \n",
       "1     Britannia Cake     Snacks       Pune              81             86   \n",
       "2     Fortune Oil 1L    Grocery  Hyderabad             138            143   \n",
       "3        Pepsi 500ml  Beverages      Delhi             127            127   \n",
       "4    Aashirvaad Atta    Grocery    Chennai              34             49   \n",
       "..               ...        ...        ...             ...            ...   \n",
       "295   Britannia Cake     Snacks       Pune             198            198   \n",
       "296  Amul Milk 500ml      Dairy  Hyderabad             131            146   \n",
       "297    Oreo Biscuits     Snacks      Delhi             171            176   \n",
       "298  Amul Milk 500ml      Dairy     Mumbai              94             99   \n",
       "299          Parle-G     Snacks    Chennai             129            129   \n",
       "\n",
       "     Discount  Orders  Total Revenue Influencer Active  \n",
       "0           5     283          44714                No  \n",
       "1          10     284          21584               Yes  \n",
       "2          10      69           9177                No  \n",
       "3          10      83           9711                No  \n",
       "4          10     169           6591               Yes  \n",
       "..        ...     ...            ...               ...  \n",
       "295         5      52          10036               Yes  \n",
       "296        10     146          19856                No  \n",
       "297        10     291          48306                No  \n",
       "298         0     124          12276                No  \n",
       "299        10     272          32368                No  \n",
       "\n",
       "[300 rows x 9 columns]"
      ]
     },
     "execution_count": 154,
     "metadata": {},
     "output_type": "execute_result"
    }
   ],
   "source": [
    "data"
   ]
  },
  {
   "cell_type": "markdown",
   "id": "c4ae8b32-76ab-4951-8407-f459652b2c19",
   "metadata": {},
   "source": [
    "# Dropping an unwanted column"
   ]
  },
  {
   "cell_type": "code",
   "execution_count": 155,
   "id": "737ed598-8e80-4277-ba17-45990e69dfd5",
   "metadata": {},
   "outputs": [],
   "source": [
    "data.drop(columns=\"Influencer Active\",inplace=True)"
   ]
  },
  {
   "cell_type": "code",
   "execution_count": 156,
   "id": "eea4e606-3b94-4df9-a84f-355ae435f2d9",
   "metadata": {},
   "outputs": [
    {
     "data": {
      "text/html": [
       "<div>\n",
       "<style scoped>\n",
       "    .dataframe tbody tr th:only-of-type {\n",
       "        vertical-align: middle;\n",
       "    }\n",
       "\n",
       "    .dataframe tbody tr th {\n",
       "        vertical-align: top;\n",
       "    }\n",
       "\n",
       "    .dataframe thead th {\n",
       "        text-align: right;\n",
       "    }\n",
       "</style>\n",
       "<table border=\"1\" class=\"dataframe\">\n",
       "  <thead>\n",
       "    <tr style=\"text-align: right;\">\n",
       "      <th></th>\n",
       "      <th>Product Name</th>\n",
       "      <th>Category</th>\n",
       "      <th>City</th>\n",
       "      <th>Original Price</th>\n",
       "      <th>Current Price</th>\n",
       "      <th>Discount</th>\n",
       "      <th>Orders</th>\n",
       "      <th>Total Revenue</th>\n",
       "    </tr>\n",
       "  </thead>\n",
       "  <tbody>\n",
       "    <tr>\n",
       "      <th>0</th>\n",
       "      <td>Britannia Cake</td>\n",
       "      <td>Snacks</td>\n",
       "      <td>Delhi</td>\n",
       "      <td>148</td>\n",
       "      <td>163</td>\n",
       "      <td>5</td>\n",
       "      <td>283</td>\n",
       "      <td>44714</td>\n",
       "    </tr>\n",
       "    <tr>\n",
       "      <th>1</th>\n",
       "      <td>Britannia Cake</td>\n",
       "      <td>Snacks</td>\n",
       "      <td>Pune</td>\n",
       "      <td>81</td>\n",
       "      <td>86</td>\n",
       "      <td>10</td>\n",
       "      <td>284</td>\n",
       "      <td>21584</td>\n",
       "    </tr>\n",
       "    <tr>\n",
       "      <th>2</th>\n",
       "      <td>Fortune Oil 1L</td>\n",
       "      <td>Grocery</td>\n",
       "      <td>Hyderabad</td>\n",
       "      <td>138</td>\n",
       "      <td>143</td>\n",
       "      <td>10</td>\n",
       "      <td>69</td>\n",
       "      <td>9177</td>\n",
       "    </tr>\n",
       "    <tr>\n",
       "      <th>3</th>\n",
       "      <td>Pepsi 500ml</td>\n",
       "      <td>Beverages</td>\n",
       "      <td>Delhi</td>\n",
       "      <td>127</td>\n",
       "      <td>127</td>\n",
       "      <td>10</td>\n",
       "      <td>83</td>\n",
       "      <td>9711</td>\n",
       "    </tr>\n",
       "    <tr>\n",
       "      <th>4</th>\n",
       "      <td>Aashirvaad Atta</td>\n",
       "      <td>Grocery</td>\n",
       "      <td>Chennai</td>\n",
       "      <td>34</td>\n",
       "      <td>49</td>\n",
       "      <td>10</td>\n",
       "      <td>169</td>\n",
       "      <td>6591</td>\n",
       "    </tr>\n",
       "  </tbody>\n",
       "</table>\n",
       "</div>"
      ],
      "text/plain": [
       "      Product Name   Category       City  Original Price  Current Price  \\\n",
       "0   Britannia Cake     Snacks      Delhi             148            163   \n",
       "1   Britannia Cake     Snacks       Pune              81             86   \n",
       "2   Fortune Oil 1L    Grocery  Hyderabad             138            143   \n",
       "3      Pepsi 500ml  Beverages      Delhi             127            127   \n",
       "4  Aashirvaad Atta    Grocery    Chennai              34             49   \n",
       "\n",
       "   Discount  Orders  Total Revenue  \n",
       "0         5     283          44714  \n",
       "1        10     284          21584  \n",
       "2        10      69           9177  \n",
       "3        10      83           9711  \n",
       "4        10     169           6591  "
      ]
     },
     "execution_count": 156,
     "metadata": {},
     "output_type": "execute_result"
    }
   ],
   "source": [
    "data.head()"
   ]
  },
  {
   "cell_type": "code",
   "execution_count": 157,
   "id": "a844893f-0d69-4587-b930-5a2b21d74ac2",
   "metadata": {},
   "outputs": [
    {
     "data": {
      "text/plain": [
       "Product Name      Britannia Cake\n",
       "Category                  Snacks\n",
       "City                       Delhi\n",
       "Original Price               148\n",
       "Current Price                163\n",
       "Discount                       5\n",
       "Orders                       283\n",
       "Total Revenue              44714\n",
       "Name: 0, dtype: object"
      ]
     },
     "execution_count": 157,
     "metadata": {},
     "output_type": "execute_result"
    }
   ],
   "source": [
    "data.loc[0]"
   ]
  },
  {
   "cell_type": "code",
   "execution_count": 158,
   "id": "55444323-f702-45f6-baf6-ec3674d65681",
   "metadata": {},
   "outputs": [
    {
     "data": {
      "text/plain": [
       "0      283\n",
       "1      284\n",
       "2       69\n",
       "3       83\n",
       "4      169\n",
       "      ... \n",
       "295     52\n",
       "296    146\n",
       "297    291\n",
       "298    124\n",
       "299    272\n",
       "Name: Orders, Length: 300, dtype: int64"
      ]
     },
     "execution_count": 158,
     "metadata": {},
     "output_type": "execute_result"
    }
   ],
   "source": [
    "data.Orders"
   ]
  },
  {
   "cell_type": "code",
   "execution_count": 159,
   "id": "1103e4cf-1757-46e3-b173-6a2b77fae28e",
   "metadata": {},
   "outputs": [
    {
     "data": {
      "text/html": [
       "<div>\n",
       "<style scoped>\n",
       "    .dataframe tbody tr th:only-of-type {\n",
       "        vertical-align: middle;\n",
       "    }\n",
       "\n",
       "    .dataframe tbody tr th {\n",
       "        vertical-align: top;\n",
       "    }\n",
       "\n",
       "    .dataframe thead th {\n",
       "        text-align: right;\n",
       "    }\n",
       "</style>\n",
       "<table border=\"1\" class=\"dataframe\">\n",
       "  <thead>\n",
       "    <tr style=\"text-align: right;\">\n",
       "      <th></th>\n",
       "      <th>Original Price</th>\n",
       "      <th>Current Price</th>\n",
       "      <th>Discount</th>\n",
       "      <th>Orders</th>\n",
       "      <th>Total Revenue</th>\n",
       "    </tr>\n",
       "  </thead>\n",
       "  <tbody>\n",
       "    <tr>\n",
       "      <th>count</th>\n",
       "      <td>300.000000</td>\n",
       "      <td>300.000000</td>\n",
       "      <td>300.000000</td>\n",
       "      <td>300.000000</td>\n",
       "      <td>300.000000</td>\n",
       "    </tr>\n",
       "    <tr>\n",
       "      <th>mean</th>\n",
       "      <td>111.866667</td>\n",
       "      <td>119.200000</td>\n",
       "      <td>4.916667</td>\n",
       "      <td>168.153333</td>\n",
       "      <td>19277.836667</td>\n",
       "    </tr>\n",
       "    <tr>\n",
       "      <th>std</th>\n",
       "      <td>49.936102</td>\n",
       "      <td>50.462543</td>\n",
       "      <td>4.179468</td>\n",
       "      <td>74.258541</td>\n",
       "      <td>12744.470724</td>\n",
       "    </tr>\n",
       "    <tr>\n",
       "      <th>min</th>\n",
       "      <td>20.000000</td>\n",
       "      <td>21.000000</td>\n",
       "      <td>0.000000</td>\n",
       "      <td>50.000000</td>\n",
       "      <td>1392.000000</td>\n",
       "    </tr>\n",
       "    <tr>\n",
       "      <th>25%</th>\n",
       "      <td>71.750000</td>\n",
       "      <td>78.000000</td>\n",
       "      <td>0.000000</td>\n",
       "      <td>103.750000</td>\n",
       "      <td>9025.250000</td>\n",
       "    </tr>\n",
       "    <tr>\n",
       "      <th>50%</th>\n",
       "      <td>115.000000</td>\n",
       "      <td>120.500000</td>\n",
       "      <td>5.000000</td>\n",
       "      <td>161.500000</td>\n",
       "      <td>16227.000000</td>\n",
       "    </tr>\n",
       "    <tr>\n",
       "      <th>75%</th>\n",
       "      <td>151.500000</td>\n",
       "      <td>161.000000</td>\n",
       "      <td>10.000000</td>\n",
       "      <td>233.750000</td>\n",
       "      <td>27396.000000</td>\n",
       "    </tr>\n",
       "    <tr>\n",
       "      <th>max</th>\n",
       "      <td>199.000000</td>\n",
       "      <td>213.000000</td>\n",
       "      <td>10.000000</td>\n",
       "      <td>299.000000</td>\n",
       "      <td>58212.000000</td>\n",
       "    </tr>\n",
       "  </tbody>\n",
       "</table>\n",
       "</div>"
      ],
      "text/plain": [
       "       Original Price  Current Price    Discount      Orders  Total Revenue\n",
       "count      300.000000     300.000000  300.000000  300.000000     300.000000\n",
       "mean       111.866667     119.200000    4.916667  168.153333   19277.836667\n",
       "std         49.936102      50.462543    4.179468   74.258541   12744.470724\n",
       "min         20.000000      21.000000    0.000000   50.000000    1392.000000\n",
       "25%         71.750000      78.000000    0.000000  103.750000    9025.250000\n",
       "50%        115.000000     120.500000    5.000000  161.500000   16227.000000\n",
       "75%        151.500000     161.000000   10.000000  233.750000   27396.000000\n",
       "max        199.000000     213.000000   10.000000  299.000000   58212.000000"
      ]
     },
     "execution_count": 159,
     "metadata": {},
     "output_type": "execute_result"
    }
   ],
   "source": [
    "data.describe()"
   ]
  },
  {
   "cell_type": "markdown",
   "id": "4b17684e-5086-4f3a-9b5b-a8085373f0bf",
   "metadata": {},
   "source": [
    "# removing the duplicates"
   ]
  },
  {
   "cell_type": "code",
   "execution_count": 160,
   "id": "a8c12a0a-da6d-4008-afff-3cab6d65e414",
   "metadata": {},
   "outputs": [
    {
     "data": {
      "text/html": [
       "<div>\n",
       "<style scoped>\n",
       "    .dataframe tbody tr th:only-of-type {\n",
       "        vertical-align: middle;\n",
       "    }\n",
       "\n",
       "    .dataframe tbody tr th {\n",
       "        vertical-align: top;\n",
       "    }\n",
       "\n",
       "    .dataframe thead th {\n",
       "        text-align: right;\n",
       "    }\n",
       "</style>\n",
       "<table border=\"1\" class=\"dataframe\">\n",
       "  <thead>\n",
       "    <tr style=\"text-align: right;\">\n",
       "      <th></th>\n",
       "      <th>Product Name</th>\n",
       "      <th>Category</th>\n",
       "      <th>City</th>\n",
       "      <th>Original Price</th>\n",
       "      <th>Current Price</th>\n",
       "      <th>Discount</th>\n",
       "      <th>Orders</th>\n",
       "      <th>Total Revenue</th>\n",
       "    </tr>\n",
       "  </thead>\n",
       "  <tbody>\n",
       "    <tr>\n",
       "      <th>0</th>\n",
       "      <td>Britannia Cake</td>\n",
       "      <td>Snacks</td>\n",
       "      <td>Delhi</td>\n",
       "      <td>148</td>\n",
       "      <td>163</td>\n",
       "      <td>5</td>\n",
       "      <td>283</td>\n",
       "      <td>44714</td>\n",
       "    </tr>\n",
       "    <tr>\n",
       "      <th>1</th>\n",
       "      <td>Britannia Cake</td>\n",
       "      <td>Snacks</td>\n",
       "      <td>Pune</td>\n",
       "      <td>81</td>\n",
       "      <td>86</td>\n",
       "      <td>10</td>\n",
       "      <td>284</td>\n",
       "      <td>21584</td>\n",
       "    </tr>\n",
       "    <tr>\n",
       "      <th>2</th>\n",
       "      <td>Fortune Oil 1L</td>\n",
       "      <td>Grocery</td>\n",
       "      <td>Hyderabad</td>\n",
       "      <td>138</td>\n",
       "      <td>143</td>\n",
       "      <td>10</td>\n",
       "      <td>69</td>\n",
       "      <td>9177</td>\n",
       "    </tr>\n",
       "    <tr>\n",
       "      <th>3</th>\n",
       "      <td>Pepsi 500ml</td>\n",
       "      <td>Beverages</td>\n",
       "      <td>Delhi</td>\n",
       "      <td>127</td>\n",
       "      <td>127</td>\n",
       "      <td>10</td>\n",
       "      <td>83</td>\n",
       "      <td>9711</td>\n",
       "    </tr>\n",
       "    <tr>\n",
       "      <th>4</th>\n",
       "      <td>Aashirvaad Atta</td>\n",
       "      <td>Grocery</td>\n",
       "      <td>Chennai</td>\n",
       "      <td>34</td>\n",
       "      <td>49</td>\n",
       "      <td>10</td>\n",
       "      <td>169</td>\n",
       "      <td>6591</td>\n",
       "    </tr>\n",
       "    <tr>\n",
       "      <th>...</th>\n",
       "      <td>...</td>\n",
       "      <td>...</td>\n",
       "      <td>...</td>\n",
       "      <td>...</td>\n",
       "      <td>...</td>\n",
       "      <td>...</td>\n",
       "      <td>...</td>\n",
       "      <td>...</td>\n",
       "    </tr>\n",
       "    <tr>\n",
       "      <th>295</th>\n",
       "      <td>Britannia Cake</td>\n",
       "      <td>Snacks</td>\n",
       "      <td>Pune</td>\n",
       "      <td>198</td>\n",
       "      <td>198</td>\n",
       "      <td>5</td>\n",
       "      <td>52</td>\n",
       "      <td>10036</td>\n",
       "    </tr>\n",
       "    <tr>\n",
       "      <th>296</th>\n",
       "      <td>Amul Milk 500ml</td>\n",
       "      <td>Dairy</td>\n",
       "      <td>Hyderabad</td>\n",
       "      <td>131</td>\n",
       "      <td>146</td>\n",
       "      <td>10</td>\n",
       "      <td>146</td>\n",
       "      <td>19856</td>\n",
       "    </tr>\n",
       "    <tr>\n",
       "      <th>297</th>\n",
       "      <td>Oreo Biscuits</td>\n",
       "      <td>Snacks</td>\n",
       "      <td>Delhi</td>\n",
       "      <td>171</td>\n",
       "      <td>176</td>\n",
       "      <td>10</td>\n",
       "      <td>291</td>\n",
       "      <td>48306</td>\n",
       "    </tr>\n",
       "    <tr>\n",
       "      <th>298</th>\n",
       "      <td>Amul Milk 500ml</td>\n",
       "      <td>Dairy</td>\n",
       "      <td>Mumbai</td>\n",
       "      <td>94</td>\n",
       "      <td>99</td>\n",
       "      <td>0</td>\n",
       "      <td>124</td>\n",
       "      <td>12276</td>\n",
       "    </tr>\n",
       "    <tr>\n",
       "      <th>299</th>\n",
       "      <td>Parle-G</td>\n",
       "      <td>Snacks</td>\n",
       "      <td>Chennai</td>\n",
       "      <td>129</td>\n",
       "      <td>129</td>\n",
       "      <td>10</td>\n",
       "      <td>272</td>\n",
       "      <td>32368</td>\n",
       "    </tr>\n",
       "  </tbody>\n",
       "</table>\n",
       "<p>300 rows × 8 columns</p>\n",
       "</div>"
      ],
      "text/plain": [
       "        Product Name   Category       City  Original Price  Current Price  \\\n",
       "0     Britannia Cake     Snacks      Delhi             148            163   \n",
       "1     Britannia Cake     Snacks       Pune              81             86   \n",
       "2     Fortune Oil 1L    Grocery  Hyderabad             138            143   \n",
       "3        Pepsi 500ml  Beverages      Delhi             127            127   \n",
       "4    Aashirvaad Atta    Grocery    Chennai              34             49   \n",
       "..               ...        ...        ...             ...            ...   \n",
       "295   Britannia Cake     Snacks       Pune             198            198   \n",
       "296  Amul Milk 500ml      Dairy  Hyderabad             131            146   \n",
       "297    Oreo Biscuits     Snacks      Delhi             171            176   \n",
       "298  Amul Milk 500ml      Dairy     Mumbai              94             99   \n",
       "299          Parle-G     Snacks    Chennai             129            129   \n",
       "\n",
       "     Discount  Orders  Total Revenue  \n",
       "0           5     283          44714  \n",
       "1          10     284          21584  \n",
       "2          10      69           9177  \n",
       "3          10      83           9711  \n",
       "4          10     169           6591  \n",
       "..        ...     ...            ...  \n",
       "295         5      52          10036  \n",
       "296        10     146          19856  \n",
       "297        10     291          48306  \n",
       "298         0     124          12276  \n",
       "299        10     272          32368  \n",
       "\n",
       "[300 rows x 8 columns]"
      ]
     },
     "execution_count": 160,
     "metadata": {},
     "output_type": "execute_result"
    }
   ],
   "source": [
    "data.drop_duplicates()"
   ]
  },
  {
   "cell_type": "code",
   "execution_count": 161,
   "id": "af8586ac-c17c-4df9-9ec6-a3d465518fdf",
   "metadata": {},
   "outputs": [
    {
     "name": "stdout",
     "output_type": "stream",
     "text": [
      "Number of duplicate rows: 0\n"
     ]
    }
   ],
   "source": [
    "print(\"Number of duplicate rows:\", data.duplicated().sum())\n"
   ]
  },
  {
   "cell_type": "code",
   "execution_count": 162,
   "id": "1b577e1b-e3d8-46cd-872a-1a44b884d8a2",
   "metadata": {},
   "outputs": [
    {
     "name": "stdout",
     "output_type": "stream",
     "text": [
      "        Product Name Category       City  Original Price  Current Price  \\\n",
      "18           Parle-G   Snacks    Chennai             102            107   \n",
      "32     Oreo Biscuits   Snacks       Pune             159            164   \n",
      "34   Aashirvaad Atta  Grocery       Pune              80             90   \n",
      "39    Britannia Cake   Snacks  Bangalore             108            113   \n",
      "60           Parle-G   Snacks     Mumbai             150            165   \n",
      "..               ...      ...        ...             ...            ...   \n",
      "295   Britannia Cake   Snacks       Pune             198            198   \n",
      "296  Amul Milk 500ml    Dairy  Hyderabad             131            146   \n",
      "297    Oreo Biscuits   Snacks      Delhi             171            176   \n",
      "298  Amul Milk 500ml    Dairy     Mumbai              94             99   \n",
      "299          Parle-G   Snacks    Chennai             129            129   \n",
      "\n",
      "     Discount  Orders  Total Revenue  \n",
      "18         10     254          24638  \n",
      "32         10      83          12782  \n",
      "34          5     246          20910  \n",
      "39          0      56           6328  \n",
      "60          0     179          29535  \n",
      "..        ...     ...            ...  \n",
      "295         5      52          10036  \n",
      "296        10     146          19856  \n",
      "297        10     291          48306  \n",
      "298         0     124          12276  \n",
      "299        10     272          32368  \n",
      "\n",
      "[122 rows x 8 columns]\n"
     ]
    }
   ],
   "source": [
    "duplicates = data[data.duplicated(subset=['Orders'])]\n",
    "print(duplicates)\n"
   ]
  },
  {
   "cell_type": "code",
   "execution_count": 163,
   "id": "b274360b-48b3-4aed-aec3-2a02dec9616b",
   "metadata": {},
   "outputs": [
    {
     "name": "stdout",
     "output_type": "stream",
     "text": [
      "['Product Name', 'Category', 'City', 'Original Price', 'Current Price', 'Discount', 'Orders', 'Total Revenue']\n"
     ]
    }
   ],
   "source": [
    "print(data.columns.tolist())\n"
   ]
  },
  {
   "cell_type": "code",
   "execution_count": 164,
   "id": "3a6f7e77-1f14-43e7-b9f8-4fe2f7d3d41c",
   "metadata": {},
   "outputs": [
    {
     "data": {
      "text/plain": [
       "0      False\n",
       "1      False\n",
       "2      False\n",
       "3      False\n",
       "4      False\n",
       "       ...  \n",
       "295     True\n",
       "296     True\n",
       "297     True\n",
       "298     True\n",
       "299     True\n",
       "Name: Orders, Length: 300, dtype: bool"
      ]
     },
     "execution_count": 164,
     "metadata": {},
     "output_type": "execute_result"
    }
   ],
   "source": [
    "data['Orders'].duplicated()"
   ]
  },
  {
   "cell_type": "code",
   "execution_count": 165,
   "id": "c4fc219f-bd0b-4258-b22b-23b730e915d0",
   "metadata": {},
   "outputs": [
    {
     "name": "stdout",
     "output_type": "stream",
     "text": [
      "<class 'pandas.core.frame.DataFrame'>\n",
      "RangeIndex: 300 entries, 0 to 299\n",
      "Data columns (total 8 columns):\n",
      " #   Column          Non-Null Count  Dtype \n",
      "---  ------          --------------  ----- \n",
      " 0   Product Name    300 non-null    object\n",
      " 1   Category        300 non-null    object\n",
      " 2   City            300 non-null    object\n",
      " 3   Original Price  300 non-null    int64 \n",
      " 4   Current Price   300 non-null    int64 \n",
      " 5   Discount        300 non-null    int64 \n",
      " 6   Orders          300 non-null    int64 \n",
      " 7   Total Revenue   300 non-null    int64 \n",
      "dtypes: int64(5), object(3)\n",
      "memory usage: 18.9+ KB\n"
     ]
    }
   ],
   "source": [
    "data.info()"
   ]
  },
  {
   "cell_type": "markdown",
   "id": "0d3d1c93-b433-42dc-844f-3c9cf223fb36",
   "metadata": {},
   "source": [
    "# Analyzing the Data"
   ]
  },
  {
   "cell_type": "markdown",
   "id": "d34ba4d2-9edc-41ed-b452-3ea9346e9fec",
   "metadata": {},
   "source": [
    "## Q. 1) which one was most selling Product by Total Revenue\n",
    "    "
   ]
  },
  {
   "cell_type": "markdown",
   "id": "9de51732-43d3-4a1c-8958-39358370b634",
   "metadata": {},
   "source": [
    "By Total Revenue"
   ]
  },
  {
   "cell_type": "code",
   "execution_count": 236,
   "id": "639e3f00-1fb5-46c3-b8ea-cbf190a7922a",
   "metadata": {},
   "outputs": [
    {
     "data": {
      "text/html": [
       "<div>\n",
       "<style scoped>\n",
       "    .dataframe tbody tr th:only-of-type {\n",
       "        vertical-align: middle;\n",
       "    }\n",
       "\n",
       "    .dataframe tbody tr th {\n",
       "        vertical-align: top;\n",
       "    }\n",
       "\n",
       "    .dataframe thead th {\n",
       "        text-align: right;\n",
       "    }\n",
       "</style>\n",
       "<table border=\"1\" class=\"dataframe\">\n",
       "  <thead>\n",
       "    <tr style=\"text-align: right;\">\n",
       "      <th></th>\n",
       "      <th>Product Name</th>\n",
       "      <th>Category</th>\n",
       "      <th>City</th>\n",
       "      <th>Original Price</th>\n",
       "      <th>Current Price</th>\n",
       "      <th>Discount</th>\n",
       "      <th>Orders</th>\n",
       "      <th>Total Revenue</th>\n",
       "    </tr>\n",
       "  </thead>\n",
       "  <tbody>\n",
       "    <tr>\n",
       "      <th>0</th>\n",
       "      <td>Britannia Cake</td>\n",
       "      <td>Snacks</td>\n",
       "      <td>Delhi</td>\n",
       "      <td>148</td>\n",
       "      <td>163</td>\n",
       "      <td>5</td>\n",
       "      <td>283</td>\n",
       "      <td>44714</td>\n",
       "    </tr>\n",
       "    <tr>\n",
       "      <th>1</th>\n",
       "      <td>Britannia Cake</td>\n",
       "      <td>Snacks</td>\n",
       "      <td>Pune</td>\n",
       "      <td>81</td>\n",
       "      <td>86</td>\n",
       "      <td>10</td>\n",
       "      <td>284</td>\n",
       "      <td>21584</td>\n",
       "    </tr>\n",
       "    <tr>\n",
       "      <th>2</th>\n",
       "      <td>Fortune Oil 1L</td>\n",
       "      <td>Grocery</td>\n",
       "      <td>Hyderabad</td>\n",
       "      <td>138</td>\n",
       "      <td>143</td>\n",
       "      <td>10</td>\n",
       "      <td>69</td>\n",
       "      <td>9177</td>\n",
       "    </tr>\n",
       "    <tr>\n",
       "      <th>3</th>\n",
       "      <td>Pepsi 500ml</td>\n",
       "      <td>Beverages</td>\n",
       "      <td>Delhi</td>\n",
       "      <td>127</td>\n",
       "      <td>127</td>\n",
       "      <td>10</td>\n",
       "      <td>83</td>\n",
       "      <td>9711</td>\n",
       "    </tr>\n",
       "    <tr>\n",
       "      <th>4</th>\n",
       "      <td>Aashirvaad Atta</td>\n",
       "      <td>Grocery</td>\n",
       "      <td>Chennai</td>\n",
       "      <td>34</td>\n",
       "      <td>49</td>\n",
       "      <td>10</td>\n",
       "      <td>169</td>\n",
       "      <td>6591</td>\n",
       "    </tr>\n",
       "  </tbody>\n",
       "</table>\n",
       "</div>"
      ],
      "text/plain": [
       "      Product Name   Category       City  Original Price  Current Price  \\\n",
       "0   Britannia Cake     Snacks      Delhi             148            163   \n",
       "1   Britannia Cake     Snacks       Pune              81             86   \n",
       "2   Fortune Oil 1L    Grocery  Hyderabad             138            143   \n",
       "3      Pepsi 500ml  Beverages      Delhi             127            127   \n",
       "4  Aashirvaad Atta    Grocery    Chennai              34             49   \n",
       "\n",
       "   Discount  Orders  Total Revenue  \n",
       "0         5     283          44714  \n",
       "1        10     284          21584  \n",
       "2        10      69           9177  \n",
       "3        10      83           9711  \n",
       "4        10     169           6591  "
      ]
     },
     "execution_count": 236,
     "metadata": {},
     "output_type": "execute_result"
    }
   ],
   "source": [
    "data.head()"
   ]
  },
  {
   "cell_type": "code",
   "execution_count": 237,
   "id": "ba9db345-09d4-4837-af0b-c8c085e655ca",
   "metadata": {},
   "outputs": [
    {
     "data": {
      "text/plain": [
       "Category\n",
       "Snacks           1712447\n",
       "Beverages        1227002\n",
       "Grocery           955353\n",
       "Instant Food      661477\n",
       "Confectionery     647424\n",
       "Dairy             579648\n",
       "Name: Total Revenue, dtype: int64"
      ]
     },
     "execution_count": 237,
     "metadata": {},
     "output_type": "execute_result"
    }
   ],
   "source": [
    "data.groupby('Category')['Total Revenue'].sum().sort_values(ascending = False)"
   ]
  },
  {
   "cell_type": "code",
   "execution_count": 238,
   "id": "11c02d7b-be87-4147-aa3e-7e9b6f58ad2d",
   "metadata": {},
   "outputs": [
    {
     "data": {
      "text/plain": [
       "Category\n",
       "Snacks           1712447\n",
       "Beverages        1227002\n",
       "Grocery           955353\n",
       "Instant Food      661477\n",
       "Confectionery     647424\n",
       "Dairy             579648\n",
       "Name: Total Revenue, dtype: int64"
      ]
     },
     "execution_count": 238,
     "metadata": {},
     "output_type": "execute_result"
    }
   ],
   "source": [
    "Most_Revenue = data.groupby('Category')['Total Revenue'].sum().sort_values(ascending = False)\n",
    "Most_Revenue"
   ]
  },
  {
   "cell_type": "code",
   "execution_count": 239,
   "id": "5258b2c2-183d-49a6-925f-a25a13534e5f",
   "metadata": {},
   "outputs": [
    {
     "data": {
      "text/html": [
       "<div>\n",
       "<style scoped>\n",
       "    .dataframe tbody tr th:only-of-type {\n",
       "        vertical-align: middle;\n",
       "    }\n",
       "\n",
       "    .dataframe tbody tr th {\n",
       "        vertical-align: top;\n",
       "    }\n",
       "\n",
       "    .dataframe thead th {\n",
       "        text-align: right;\n",
       "    }\n",
       "</style>\n",
       "<table border=\"1\" class=\"dataframe\">\n",
       "  <thead>\n",
       "    <tr style=\"text-align: right;\">\n",
       "      <th></th>\n",
       "      <th>Category</th>\n",
       "      <th>Total Revenue</th>\n",
       "    </tr>\n",
       "  </thead>\n",
       "  <tbody>\n",
       "    <tr>\n",
       "      <th>0</th>\n",
       "      <td>Snacks</td>\n",
       "      <td>1712447</td>\n",
       "    </tr>\n",
       "    <tr>\n",
       "      <th>1</th>\n",
       "      <td>Beverages</td>\n",
       "      <td>1227002</td>\n",
       "    </tr>\n",
       "    <tr>\n",
       "      <th>2</th>\n",
       "      <td>Grocery</td>\n",
       "      <td>955353</td>\n",
       "    </tr>\n",
       "    <tr>\n",
       "      <th>3</th>\n",
       "      <td>Instant Food</td>\n",
       "      <td>661477</td>\n",
       "    </tr>\n",
       "    <tr>\n",
       "      <th>4</th>\n",
       "      <td>Confectionery</td>\n",
       "      <td>647424</td>\n",
       "    </tr>\n",
       "    <tr>\n",
       "      <th>5</th>\n",
       "      <td>Dairy</td>\n",
       "      <td>579648</td>\n",
       "    </tr>\n",
       "  </tbody>\n",
       "</table>\n",
       "</div>"
      ],
      "text/plain": [
       "        Category  Total Revenue\n",
       "0         Snacks        1712447\n",
       "1      Beverages        1227002\n",
       "2        Grocery         955353\n",
       "3   Instant Food         661477\n",
       "4  Confectionery         647424\n",
       "5          Dairy         579648"
      ]
     },
     "execution_count": 239,
     "metadata": {},
     "output_type": "execute_result"
    }
   ],
   "source": [
    "Most_Revenue = Most_Revenue.reset_index()\n",
    "Most_Revenue"
   ]
  },
  {
   "cell_type": "code",
   "execution_count": 240,
   "id": "c7982165-1135-4711-a518-2e53c6896ed7",
   "metadata": {},
   "outputs": [
    {
     "data": {
      "text/plain": [
       "pandas.core.frame.DataFrame"
      ]
     },
     "execution_count": 240,
     "metadata": {},
     "output_type": "execute_result"
    }
   ],
   "source": [
    "type(Most_Revenue)"
   ]
  },
  {
   "cell_type": "code",
   "execution_count": 242,
   "id": "7d85ecdd-9c7a-4d99-b638-232aca2f0981",
   "metadata": {},
   "outputs": [
    {
     "data": {
      "image/png": "[encoded data removed]",
      "text/plain": [
       "<Figure size 800x600 with 1 Axes>"
      ]
     },
     "metadata": {},
     "output_type": "display_data"
    }
   ],
   "source": [
    "import matplotlib.ticker as ticker\n",
    "\n",
    "plt.figure(figsize =(8,6))\n",
    "plt.bar(Most_Revenue['Category'], Most_Revenue['Total Revenue'], color='purple' ,width = 0.5) ;\n",
    "plt.xlabel(\"Category\")\n",
    "plt.ylabel(\"Total Revenue\")\n",
    "plt.title(\"Most Selling Products - by Revenue\")\n",
    "\n",
    "#  Format y-axis to show plain numbers instead of scientific notation\n",
    "plt.gca().yaxis.set_major_formatter(ticker.FuncFormatter(lambda x, _: f'{int(x):,}'))\n",
    "\n",
    "plt.tight_layout()\n",
    "plt.show()\n"
   ]
  },
  {
   "cell_type": "markdown",
   "id": "57cbe326-759f-407b-b7eb-450ad062bda5",
   "metadata": {},
   "source": [
    "## Q2) which city had maximum Revenue"
   ]
  },
  {
   "cell_type": "code",
   "execution_count": 247,
   "id": "7c855c26-573e-4853-86c2-4c78f5c02863",
   "metadata": {},
   "outputs": [
    {
     "data": {
      "text/html": [
       "<div>\n",
       "<style scoped>\n",
       "    .dataframe tbody tr th:only-of-type {\n",
       "        vertical-align: middle;\n",
       "    }\n",
       "\n",
       "    .dataframe tbody tr th {\n",
       "        vertical-align: top;\n",
       "    }\n",
       "\n",
       "    .dataframe thead th {\n",
       "        text-align: right;\n",
       "    }\n",
       "</style>\n",
       "<table border=\"1\" class=\"dataframe\">\n",
       "  <thead>\n",
       "    <tr style=\"text-align: right;\">\n",
       "      <th></th>\n",
       "      <th>Product Name</th>\n",
       "      <th>Category</th>\n",
       "      <th>City</th>\n",
       "      <th>Original Price</th>\n",
       "      <th>Current Price</th>\n",
       "      <th>Discount</th>\n",
       "      <th>Orders</th>\n",
       "      <th>Total Revenue</th>\n",
       "    </tr>\n",
       "  </thead>\n",
       "  <tbody>\n",
       "    <tr>\n",
       "      <th>0</th>\n",
       "      <td>Britannia Cake</td>\n",
       "      <td>Snacks</td>\n",
       "      <td>Delhi</td>\n",
       "      <td>148</td>\n",
       "      <td>163</td>\n",
       "      <td>5</td>\n",
       "      <td>283</td>\n",
       "      <td>44714</td>\n",
       "    </tr>\n",
       "    <tr>\n",
       "      <th>1</th>\n",
       "      <td>Britannia Cake</td>\n",
       "      <td>Snacks</td>\n",
       "      <td>Pune</td>\n",
       "      <td>81</td>\n",
       "      <td>86</td>\n",
       "      <td>10</td>\n",
       "      <td>284</td>\n",
       "      <td>21584</td>\n",
       "    </tr>\n",
       "    <tr>\n",
       "      <th>2</th>\n",
       "      <td>Fortune Oil 1L</td>\n",
       "      <td>Grocery</td>\n",
       "      <td>Hyderabad</td>\n",
       "      <td>138</td>\n",
       "      <td>143</td>\n",
       "      <td>10</td>\n",
       "      <td>69</td>\n",
       "      <td>9177</td>\n",
       "    </tr>\n",
       "    <tr>\n",
       "      <th>3</th>\n",
       "      <td>Pepsi 500ml</td>\n",
       "      <td>Beverages</td>\n",
       "      <td>Delhi</td>\n",
       "      <td>127</td>\n",
       "      <td>127</td>\n",
       "      <td>10</td>\n",
       "      <td>83</td>\n",
       "      <td>9711</td>\n",
       "    </tr>\n",
       "    <tr>\n",
       "      <th>4</th>\n",
       "      <td>Aashirvaad Atta</td>\n",
       "      <td>Grocery</td>\n",
       "      <td>Chennai</td>\n",
       "      <td>34</td>\n",
       "      <td>49</td>\n",
       "      <td>10</td>\n",
       "      <td>169</td>\n",
       "      <td>6591</td>\n",
       "    </tr>\n",
       "  </tbody>\n",
       "</table>\n",
       "</div>"
      ],
      "text/plain": [
       "      Product Name   Category       City  Original Price  Current Price  \\\n",
       "0   Britannia Cake     Snacks      Delhi             148            163   \n",
       "1   Britannia Cake     Snacks       Pune              81             86   \n",
       "2   Fortune Oil 1L    Grocery  Hyderabad             138            143   \n",
       "3      Pepsi 500ml  Beverages      Delhi             127            127   \n",
       "4  Aashirvaad Atta    Grocery    Chennai              34             49   \n",
       "\n",
       "   Discount  Orders  Total Revenue  \n",
       "0         5     283          44714  \n",
       "1        10     284          21584  \n",
       "2        10      69           9177  \n",
       "3        10      83           9711  \n",
       "4        10     169           6591  "
      ]
     },
     "execution_count": 247,
     "metadata": {},
     "output_type": "execute_result"
    }
   ],
   "source": [
    "data.head()"
   ]
  },
  {
   "cell_type": "code",
   "execution_count": 257,
   "id": "c40be4b0-c308-4698-9f27-d56b719d8bcf",
   "metadata": {},
   "outputs": [
    {
     "data": {
      "text/plain": [
       "array(['Delhi', 'Pune', 'Hyderabad', 'Chennai', 'Bangalore', 'Mumbai'],\n",
       "      dtype=object)"
      ]
     },
     "execution_count": 257,
     "metadata": {},
     "output_type": "execute_result"
    }
   ],
   "source": [
    "data.City.unique()"
   ]
  },
  {
   "cell_type": "code",
   "execution_count": 265,
   "id": "7ae350b6-9a26-4bec-af0f-3a7e36397463",
   "metadata": {},
   "outputs": [
    {
     "data": {
      "text/plain": [
       "6"
      ]
     },
     "execution_count": 265,
     "metadata": {},
     "output_type": "execute_result"
    }
   ],
   "source": [
    "data.City.nunique()"
   ]
  },
  {
   "cell_type": "code",
   "execution_count": 266,
   "id": "efc02ef5-86ad-4ffe-bf61-1e77b1a419cb",
   "metadata": {},
   "outputs": [
    {
     "data": {
      "text/plain": [
       "City\n",
       "Hyderabad    1250930\n",
       "Bangalore    1019724\n",
       "Pune          993838\n",
       "Delhi         884943\n",
       "Chennai       834726\n",
       "Mumbai        799190\n",
       "Name: Total Revenue, dtype: int64"
      ]
     },
     "execution_count": 266,
     "metadata": {},
     "output_type": "execute_result"
    }
   ],
   "source": [
    "city_revenue = data.groupby('City')['Total Revenue'].sum().sort_values(ascending=False)\n",
    "city_revenue"
   ]
  },
  {
   "cell_type": "code",
   "execution_count": 267,
   "id": "12c17704-799b-4728-a090-dd937297d708",
   "metadata": {},
   "outputs": [],
   "source": [
    "max_city = city_revenue.idxmax()\n",
    "max_revenue = city_revenue.max()"
   ]
  },
  {
   "cell_type": "code",
   "execution_count": 268,
   "id": "e8922cd0-87ec-4731-8120-027683bcff63",
   "metadata": {},
   "outputs": [
    {
     "data": {
      "text/plain": [
       "'Hyderabad'"
      ]
     },
     "execution_count": 268,
     "metadata": {},
     "output_type": "execute_result"
    }
   ],
   "source": [
    "max_city \n"
   ]
  },
  {
   "cell_type": "code",
   "execution_count": 269,
   "id": "7e33d0fb-59b7-4248-a48f-3f40b3c87105",
   "metadata": {},
   "outputs": [
    {
     "name": "stdout",
     "output_type": "stream",
     "text": [
      "The city with the maximum revenue is Hyderabad with a revenue of ₹1,250,930\n"
     ]
    }
   ],
   "source": [
    "print(f\"The city with the maximum revenue is {max_city} with a revenue of ₹{max_revenue:,.0f}\")"
   ]
  },
  {
   "cell_type": "code",
   "execution_count": 274,
   "id": "a90acf0d-0f15-4277-b9e8-85e9d8808aed",
   "metadata": {
    "scrolled": true
   },
   "outputs": [
    {
     "data": {
      "image/png": "[encoded data removed]",
      "text/plain": [
       "<Figure size 640x480 with 1 Axes>"
      ]
     },
     "metadata": {},
     "output_type": "display_data"
    }
   ],
   "source": [
    "import matplotlib.pyplot as plt\n",
    "import matplotlib.ticker as ticker\n",
    "\n",
    "# Plotting top cities by revenue\n",
    "city_revenue.head(10).plot(kind='bar', color='green')\n",
    "plt.title(\"Top 10 Cities by Revenue\")\n",
    "plt.ylabel(\"Revenue\")\n",
    "plt.xlabel(\"City\")\n",
    "\n",
    "# Formatting the y-axis for better readability\n",
    "plt.gca().yaxis.set_major_formatter(ticker.FuncFormatter(lambda x, _: f'{int(x):,}'))\n",
    "\n",
    "plt.xticks(rotation=45)\n",
    "plt.tight_layout()\n",
    "plt.show()\n"
   ]
  },
  {
   "cell_type": "markdown",
   "id": "8578fcbb-b657-439f-9e67-ab566d559597",
   "metadata": {},
   "source": [
    "## Q.3) Find the average revenue"
   ]
  },
  {
   "cell_type": "code",
   "execution_count": 275,
   "id": "76fbd8a1-3075-41b3-8bde-6ca6170de8c9",
   "metadata": {},
   "outputs": [
    {
     "data": {
      "text/plain": [
       "np.float64(19277.836666666666)"
      ]
     },
     "execution_count": 275,
     "metadata": {},
     "output_type": "execute_result"
    }
   ],
   "source": [
    "data['Total Revenue'].mean()"
   ]
  },
  {
   "cell_type": "code",
   "execution_count": 276,
   "id": "e3b16241-1576-4b81-8226-bf25080f5063",
   "metadata": {},
   "outputs": [
    {
     "data": {
      "text/html": [
       "<div>\n",
       "<style scoped>\n",
       "    .dataframe tbody tr th:only-of-type {\n",
       "        vertical-align: middle;\n",
       "    }\n",
       "\n",
       "    .dataframe tbody tr th {\n",
       "        vertical-align: top;\n",
       "    }\n",
       "\n",
       "    .dataframe thead th {\n",
       "        text-align: right;\n",
       "    }\n",
       "</style>\n",
       "<table border=\"1\" class=\"dataframe\">\n",
       "  <thead>\n",
       "    <tr style=\"text-align: right;\">\n",
       "      <th></th>\n",
       "      <th>Product Name</th>\n",
       "      <th>Category</th>\n",
       "      <th>City</th>\n",
       "      <th>Original Price</th>\n",
       "      <th>Current Price</th>\n",
       "      <th>Discount</th>\n",
       "      <th>Orders</th>\n",
       "      <th>Total Revenue</th>\n",
       "    </tr>\n",
       "  </thead>\n",
       "  <tbody>\n",
       "    <tr>\n",
       "      <th>0</th>\n",
       "      <td>Britannia Cake</td>\n",
       "      <td>Snacks</td>\n",
       "      <td>Delhi</td>\n",
       "      <td>148</td>\n",
       "      <td>163</td>\n",
       "      <td>5</td>\n",
       "      <td>283</td>\n",
       "      <td>44714</td>\n",
       "    </tr>\n",
       "    <tr>\n",
       "      <th>1</th>\n",
       "      <td>Britannia Cake</td>\n",
       "      <td>Snacks</td>\n",
       "      <td>Pune</td>\n",
       "      <td>81</td>\n",
       "      <td>86</td>\n",
       "      <td>10</td>\n",
       "      <td>284</td>\n",
       "      <td>21584</td>\n",
       "    </tr>\n",
       "    <tr>\n",
       "      <th>2</th>\n",
       "      <td>Fortune Oil 1L</td>\n",
       "      <td>Grocery</td>\n",
       "      <td>Hyderabad</td>\n",
       "      <td>138</td>\n",
       "      <td>143</td>\n",
       "      <td>10</td>\n",
       "      <td>69</td>\n",
       "      <td>9177</td>\n",
       "    </tr>\n",
       "    <tr>\n",
       "      <th>3</th>\n",
       "      <td>Pepsi 500ml</td>\n",
       "      <td>Beverages</td>\n",
       "      <td>Delhi</td>\n",
       "      <td>127</td>\n",
       "      <td>127</td>\n",
       "      <td>10</td>\n",
       "      <td>83</td>\n",
       "      <td>9711</td>\n",
       "    </tr>\n",
       "    <tr>\n",
       "      <th>4</th>\n",
       "      <td>Aashirvaad Atta</td>\n",
       "      <td>Grocery</td>\n",
       "      <td>Chennai</td>\n",
       "      <td>34</td>\n",
       "      <td>49</td>\n",
       "      <td>10</td>\n",
       "      <td>169</td>\n",
       "      <td>6591</td>\n",
       "    </tr>\n",
       "  </tbody>\n",
       "</table>\n",
       "</div>"
      ],
      "text/plain": [
       "      Product Name   Category       City  Original Price  Current Price  \\\n",
       "0   Britannia Cake     Snacks      Delhi             148            163   \n",
       "1   Britannia Cake     Snacks       Pune              81             86   \n",
       "2   Fortune Oil 1L    Grocery  Hyderabad             138            143   \n",
       "3      Pepsi 500ml  Beverages      Delhi             127            127   \n",
       "4  Aashirvaad Atta    Grocery    Chennai              34             49   \n",
       "\n",
       "   Discount  Orders  Total Revenue  \n",
       "0         5     283          44714  \n",
       "1        10     284          21584  \n",
       "2        10      69           9177  \n",
       "3        10      83           9711  \n",
       "4        10     169           6591  "
      ]
     },
     "execution_count": 276,
     "metadata": {},
     "output_type": "execute_result"
    }
   ],
   "source": [
    "data.head()"
   ]
  },
  {
   "cell_type": "markdown",
   "id": "178edfa2-3fcb-481f-a9a9-0bd5d7257cd6",
   "metadata": {},
   "source": [
    "## Q.4) Find the standard deviation of Revenue"
   ]
  },
  {
   "cell_type": "code",
   "execution_count": 277,
   "id": "a921fbd2-b56b-4bb0-a3e0-ad18650dd2b2",
   "metadata": {},
   "outputs": [
    {
     "data": {
      "text/plain": [
       "np.float64(12744.470724073957)"
      ]
     },
     "execution_count": 277,
     "metadata": {},
     "output_type": "execute_result"
    }
   ],
   "source": [
    "data['Total Revenue'].std()"
   ]
  },
  {
   "cell_type": "markdown",
   "id": "60a8e608-44d8-4b74-8c28-9900cfe61aab",
   "metadata": {
    "editable": true,
    "slideshow": {
     "slide_type": ""
    },
    "tags": []
   },
   "source": [
    "## Q.5) find the variance of Revenue"
   ]
  },
  {
   "cell_type": "code",
   "execution_count": 278,
   "id": "c3747610-3080-467b-ab26-b9690acdd3a8",
   "metadata": {
    "editable": true,
    "slideshow": {
     "slide_type": ""
    },
    "tags": []
   },
   "outputs": [
    {
     "data": {
      "text/plain": [
       "np.float64(162421534.03677815)"
      ]
     },
     "execution_count": 278,
     "metadata": {},
     "output_type": "execute_result"
    }
   ],
   "source": [
    "data['Total Revenue'].var()"
   ]
  },
  {
   "cell_type": "markdown",
   "id": "3097a040-c8ab-4bdf-8eb7-ee029906cabf",
   "metadata": {},
   "source": [
    "## Q.6) Average Revenue and orders for each product"
   ]
  },
  {
   "cell_type": "code",
   "execution_count": 280,
   "id": "19b27a4e-2f82-48bc-96fe-6e11943c3834",
   "metadata": {},
   "outputs": [
    {
     "data": {
      "text/html": [
       "<div>\n",
       "<style scoped>\n",
       "    .dataframe tbody tr th:only-of-type {\n",
       "        vertical-align: middle;\n",
       "    }\n",
       "\n",
       "    .dataframe tbody tr th {\n",
       "        vertical-align: top;\n",
       "    }\n",
       "\n",
       "    .dataframe thead th {\n",
       "        text-align: right;\n",
       "    }\n",
       "</style>\n",
       "<table border=\"1\" class=\"dataframe\">\n",
       "  <thead>\n",
       "    <tr style=\"text-align: right;\">\n",
       "      <th></th>\n",
       "      <th>Product Name</th>\n",
       "      <th>Category</th>\n",
       "      <th>City</th>\n",
       "      <th>Original Price</th>\n",
       "      <th>Current Price</th>\n",
       "      <th>Discount</th>\n",
       "      <th>Orders</th>\n",
       "      <th>Total Revenue</th>\n",
       "    </tr>\n",
       "  </thead>\n",
       "  <tbody>\n",
       "    <tr>\n",
       "      <th>0</th>\n",
       "      <td>Britannia Cake</td>\n",
       "      <td>Snacks</td>\n",
       "      <td>Delhi</td>\n",
       "      <td>148</td>\n",
       "      <td>163</td>\n",
       "      <td>5</td>\n",
       "      <td>283</td>\n",
       "      <td>44714</td>\n",
       "    </tr>\n",
       "    <tr>\n",
       "      <th>1</th>\n",
       "      <td>Britannia Cake</td>\n",
       "      <td>Snacks</td>\n",
       "      <td>Pune</td>\n",
       "      <td>81</td>\n",
       "      <td>86</td>\n",
       "      <td>10</td>\n",
       "      <td>284</td>\n",
       "      <td>21584</td>\n",
       "    </tr>\n",
       "    <tr>\n",
       "      <th>2</th>\n",
       "      <td>Fortune Oil 1L</td>\n",
       "      <td>Grocery</td>\n",
       "      <td>Hyderabad</td>\n",
       "      <td>138</td>\n",
       "      <td>143</td>\n",
       "      <td>10</td>\n",
       "      <td>69</td>\n",
       "      <td>9177</td>\n",
       "    </tr>\n",
       "    <tr>\n",
       "      <th>3</th>\n",
       "      <td>Pepsi 500ml</td>\n",
       "      <td>Beverages</td>\n",
       "      <td>Delhi</td>\n",
       "      <td>127</td>\n",
       "      <td>127</td>\n",
       "      <td>10</td>\n",
       "      <td>83</td>\n",
       "      <td>9711</td>\n",
       "    </tr>\n",
       "    <tr>\n",
       "      <th>4</th>\n",
       "      <td>Aashirvaad Atta</td>\n",
       "      <td>Grocery</td>\n",
       "      <td>Chennai</td>\n",
       "      <td>34</td>\n",
       "      <td>49</td>\n",
       "      <td>10</td>\n",
       "      <td>169</td>\n",
       "      <td>6591</td>\n",
       "    </tr>\n",
       "  </tbody>\n",
       "</table>\n",
       "</div>"
      ],
      "text/plain": [
       "      Product Name   Category       City  Original Price  Current Price  \\\n",
       "0   Britannia Cake     Snacks      Delhi             148            163   \n",
       "1   Britannia Cake     Snacks       Pune              81             86   \n",
       "2   Fortune Oil 1L    Grocery  Hyderabad             138            143   \n",
       "3      Pepsi 500ml  Beverages      Delhi             127            127   \n",
       "4  Aashirvaad Atta    Grocery    Chennai              34             49   \n",
       "\n",
       "   Discount  Orders  Total Revenue  \n",
       "0         5     283          44714  \n",
       "1        10     284          21584  \n",
       "2        10      69           9177  \n",
       "3        10      83           9711  \n",
       "4        10     169           6591  "
      ]
     },
     "execution_count": 280,
     "metadata": {},
     "output_type": "execute_result"
    }
   ],
   "source": [
    "data.head()"
   ]
  },
  {
   "cell_type": "code",
   "execution_count": 284,
   "id": "c7c2685e-4eec-4722-993d-dff004128134",
   "metadata": {},
   "outputs": [
    {
     "data": {
      "text/html": [
       "<div>\n",
       "<style scoped>\n",
       "    .dataframe tbody tr th:only-of-type {\n",
       "        vertical-align: middle;\n",
       "    }\n",
       "\n",
       "    .dataframe tbody tr th {\n",
       "        vertical-align: top;\n",
       "    }\n",
       "\n",
       "    .dataframe thead th {\n",
       "        text-align: right;\n",
       "    }\n",
       "</style>\n",
       "<table border=\"1\" class=\"dataframe\">\n",
       "  <thead>\n",
       "    <tr style=\"text-align: right;\">\n",
       "      <th></th>\n",
       "      <th>Total Revenue</th>\n",
       "      <th>Orders</th>\n",
       "    </tr>\n",
       "    <tr>\n",
       "      <th>Category</th>\n",
       "      <th></th>\n",
       "      <th></th>\n",
       "    </tr>\n",
       "  </thead>\n",
       "  <tbody>\n",
       "    <tr>\n",
       "      <th>Beverages</th>\n",
       "      <td>18590.939394</td>\n",
       "      <td>163.666667</td>\n",
       "    </tr>\n",
       "    <tr>\n",
       "      <th>Confectionery</th>\n",
       "      <td>20232.000000</td>\n",
       "      <td>163.843750</td>\n",
       "    </tr>\n",
       "    <tr>\n",
       "      <th>Dairy</th>\n",
       "      <td>20701.714286</td>\n",
       "      <td>175.071429</td>\n",
       "    </tr>\n",
       "    <tr>\n",
       "      <th>Grocery</th>\n",
       "      <td>17059.875000</td>\n",
       "      <td>168.553571</td>\n",
       "    </tr>\n",
       "    <tr>\n",
       "      <th>Instant Food</th>\n",
       "      <td>18374.361111</td>\n",
       "      <td>157.055556</td>\n",
       "    </tr>\n",
       "    <tr>\n",
       "      <th>Snacks</th>\n",
       "      <td>20883.500000</td>\n",
       "      <td>175.682927</td>\n",
       "    </tr>\n",
       "  </tbody>\n",
       "</table>\n",
       "</div>"
      ],
      "text/plain": [
       "               Total Revenue      Orders\n",
       "Category                                \n",
       "Beverages       18590.939394  163.666667\n",
       "Confectionery   20232.000000  163.843750\n",
       "Dairy           20701.714286  175.071429\n",
       "Grocery         17059.875000  168.553571\n",
       "Instant Food    18374.361111  157.055556\n",
       "Snacks          20883.500000  175.682927"
      ]
     },
     "execution_count": 284,
     "metadata": {},
     "output_type": "execute_result"
    }
   ],
   "source": [
    "data.groupby('Category').agg({'Total Revenue': 'mean','Orders':'mean'})"
   ]
  },
  {
   "cell_type": "code",
   "execution_count": null,
   "id": "69685352-b79b-4a12-bb4a-9bf643ee69dd",
   "metadata": {},
   "outputs": [],
   "source": []
  }
 ],
 "metadata": {
  "kernelspec": {
   "display_name": "Python 3 (ipykernel)",
   "language": "python",
   "name": "python3"
  },
  "language_info": {
   "codemirror_mode": {
    "name": "ipython",
    "version": 3
   },
   "file_extension": ".py",
   "mimetype": "text/x-python",
   "name": "python",
   "nbconvert_exporter": "python",
   "pygments_lexer": "ipython3",
   "version": "3.13.4"
  }
 },
 "nbformat": 4,
 "nbformat_minor": 5
}
